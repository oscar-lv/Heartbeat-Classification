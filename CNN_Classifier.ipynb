{
  "nbformat": 4,
  "nbformat_minor": 0,
  "metadata": {
    "colab": {
      "name": "AICW-M2.ipynb",
      "provenance": [],
      "collapsed_sections": [],
      "toc_visible": true
    },
    "kernelspec": {
      "name": "python3",
      "display_name": "Python 3"
    }
  },
  "cells": [
    {
      "cell_type": "code",
      "metadata": {
        "id": "-1dhkjNG9d0U",
        "outputId": "62f6ebe5-516b-4ccc-bb13-5fd37b8b321d",
        "colab": {
          "base_uri": "https://localhost:8080/",
          "height": 69
        }
      },
      "source": [
        "!unzip './mitbih_train.csv.zip'"
      ],
      "execution_count": null,
      "outputs": [
        {
          "output_type": "stream",
          "text": [
            "Archive:  ./mitbih_train.csv.zip\n",
            "  inflating: mitbih_train.csv        \n",
            "  inflating: __MACOSX/._mitbih_train.csv  \n"
          ],
          "name": "stdout"
        }
      ]
    },
    {
      "cell_type": "code",
      "metadata": {
        "id": "TSGGR1z39w55",
        "outputId": "3c20da0f-89b0-4177-dc9d-5780ccd30d4e",
        "colab": {
          "base_uri": "https://localhost:8080/",
          "height": 121
        }
      },
      "source": [
        "# -*- coding: utf-8 -*-\n",
        "\n",
        "import seaborn as sns\n",
        "import matplotlib.pyplot as plt\n",
        "import pandas as pd\n",
        "import numpy as np\n",
        "\n",
        "\"\"\" First Dataset Exploration \"\"\"\n",
        "\n",
        "# Loading MITBIH data\n",
        "df_bih1 = pd.read_csv('./mitbih_train.csv', header=None)\n",
        "\n",
        "\n",
        "\n",
        "df_bih1[187]=df_bih1[187].astype(int)\n",
        "equilibre=df_bih1[187].value_counts()\n",
        "print(equilibre)\n",
        "\n",
        "# Rebalancing Dataset\n",
        "from sklearn.utils import resample\n",
        "df_1=df_bih1[df_bih1[187]==1]\n",
        "df_2=df_bih1[df_bih1[187]==2]\n",
        "df_3=df_bih1[df_bih1[187]==3]\n",
        "df_4=df_bih1[df_bih1[187]==4]\n",
        "df_0=(df_bih1[df_bih1[187]==0]).sample(n=20000,random_state=42)\n",
        "\n",
        "df_1_upsample=resample(df_1,replace=True,n_samples=20000,random_state=123)\n",
        "df_2_upsample=resample(df_2,replace=True,n_samples=20000,random_state=124)\n",
        "df_3_upsample=resample(df_3,replace=True,n_samples=20000,random_state=125)\n",
        "df_4_upsample=resample(df_4,replace=True,n_samples=20000,random_state=126)\n",
        "\n",
        "train_df=pd.concat([df_0,df_1_upsample,df_2_upsample,df_3_upsample,df_4_upsample])\n",
        "\n",
        "# Dataset is rebalanced here\n",
        "train_df[187].value_counts()\n",
        "\n",
        "\n",
        "X = train_df.values[:,:-1]\n",
        "y = train_df.values[:,-1]\n"
      ],
      "execution_count": null,
      "outputs": [
        {
          "output_type": "stream",
          "text": [
            "0    72471\n",
            "4     6431\n",
            "2     5788\n",
            "1     2223\n",
            "3      641\n",
            "Name: 187, dtype: int64\n"
          ],
          "name": "stdout"
        }
      ]
    },
    {
      "cell_type": "code",
      "metadata": {
        "id": "rIphqHTpJ_7z",
        "outputId": "010386de-b307-4da3-dee7-63f43418be0d",
        "colab": {
          "base_uri": "https://localhost:8080/",
          "height": 353
        }
      },
      "source": [
        "# -*- coding: utf-8 -*-\n",
        "\n",
        "from keras.utils import to_categorical\n",
        "from sklearn.model_selection import train_test_split\n",
        "from keras.layers import Dense, Convolution1D, MaxPool1D, Flatten, Dropout\n",
        "from keras.layers import Input\n",
        "from keras.layers import Input, Dense, Conv1D, MaxPooling1D, Softmax, Add, Flatten, Activation\n",
        "from keras.models import Model\n",
        "from keras.layers.normalization import BatchNormalization\n",
        "from keras.callbacks import EarlyStopping, ModelCheckpoint\n",
        "from keras.callbacks import LearningRateScheduler, ModelCheckpoint\n",
        "from keras.optimizers import Adam\n",
        "\n",
        "\n",
        "y = to_categorical(y)\n",
        "\n",
        "X_train, X_test, y_train, y_test = train_test_split(X,y, test_size=0.3)\n",
        "\n",
        "X_train = X_train.reshape(len(X_train), X_train.shape[1],1)\n",
        "X_test = X_test.reshape(len(X_test), X_test.shape[1],1)\n",
        "\n",
        "print(\"X_train\", X_train.shape)\n",
        "print(\"y_train\", y_train.shape)\n",
        "print(\"X_test\", X_test.shape)\n",
        "print(\"y_test\", y_test.shape)\n",
        "\n",
        "def conv_net():\n",
        "    n_obs, feature, depth = X_train.shape\n",
        "    batch_size = 500\n",
        "\n",
        "    inp = Input(shape=(feature, depth))\n",
        "    C = Conv1D(filters=32, kernel_size=5, strides=1)(inp)\n",
        "\n",
        "    C11 = Conv1D(filters=32, kernel_size=5, strides=1, padding='same')(C)\n",
        "    A11 = Activation(\"relu\")(C11)\n",
        "    C12 = Conv1D(filters=32, kernel_size=5, strides=1, padding='same')(A11)\n",
        "    S11 = Add()([C12, C])\n",
        "    A12 = Activation(\"relu\")(S11)\n",
        "    M11 = MaxPooling1D(pool_size=5, strides=2)(A12)\n",
        "\n",
        "\n",
        "    C21 = Conv1D(filters=32, kernel_size=5, strides=1, padding='same')(M11)\n",
        "    A21 = Activation(\"relu\")(C21)\n",
        "    C22 = Conv1D(filters=32, kernel_size=5, strides=1, padding='same')(A21)\n",
        "    S21 = Add()([C22, M11])\n",
        "    A22 = Activation(\"relu\")(S11)\n",
        "    M21 = MaxPooling1D(pool_size=5, strides=2)(A22)\n",
        "\n",
        "\n",
        "    C31 = Conv1D(filters=32, kernel_size=5, strides=1, padding='same')(M21)\n",
        "    A31 = Activation(\"relu\")(C31)\n",
        "    C32 = Conv1D(filters=32, kernel_size=5, strides=1, padding='same')(A31)\n",
        "    S31 = Add()([C32, M21])\n",
        "    A32 = Activation(\"relu\")(S31)\n",
        "    M31 = MaxPooling1D(pool_size=5, strides=2)(A32)\n",
        "\n",
        "\n",
        "    C41 = Conv1D(filters=32, kernel_size=5, strides=1, padding='same')(M31)\n",
        "    A41 = Activation(\"relu\")(C41)\n",
        "    C42 = Conv1D(filters=32, kernel_size=5, strides=1, padding='same')(A41)\n",
        "    S41 = Add()([C42, M31])\n",
        "    A42 = Activation(\"relu\")(S41)\n",
        "    M41 = MaxPooling1D(pool_size=5, strides=2)(A42)\n",
        "\n",
        "\n",
        "    C51 = Conv1D(filters=32, kernel_size=5, strides=1, padding='same')(M41)\n",
        "    A51 = Activation(\"relu\")(C51)\n",
        "    C52 = Conv1D(filters=32, kernel_size=5, strides=1, padding='same')(A51)\n",
        "    S51 = Add()([C52, M41])\n",
        "    A52 = Activation(\"relu\")(S51)\n",
        "    M51 = MaxPooling1D(pool_size=5, strides=2)(A52)\n",
        "\n",
        "    F1 = Flatten()(M51)\n",
        "\n",
        "    D1 = Dense(32)(F1)\n",
        "    A6 = Activation(\"relu\")(D1)\n",
        "    D2 = Dense(32)(A6)\n",
        "    D3 = Dense(5)(D2)\n",
        "    A7 = Softmax()(D3)\n",
        "    \n",
        "    model = Model(inputs=inp, outputs=A7)\n",
        "    \n",
        "    def exp_decay(epoch):\n",
        "        initial_lrate = 0.001\n",
        "        k = 0.75\n",
        "        t = n_obs//(10000 * batch_size)  # every epoch we do n_obs/batch_size iteration\n",
        "        lrate = initial_lrate * math.exp(-k*t)\n",
        "        return lrate\n",
        "\n",
        "    lrate = LearningRateScheduler(exp_decay)\n",
        "    adam = Adam(lr = 0.001, beta_1 = 0.9, beta_2 = 0.999)\n",
        "\n",
        "\n",
        "    model.compile(loss='categorical_crossentropy', optimizer=adam, metrics=['accuracy'])\n",
        "    return model"
      ],
      "execution_count": null,
      "outputs": [
        {
          "output_type": "stream",
          "text": [
            "Using TensorFlow backend.\n"
          ],
          "name": "stderr"
        },
        {
          "output_type": "error",
          "ename": "NameError",
          "evalue": "ignored",
          "traceback": [
            "\u001b[0;31m---------------------------------------------------------------------------\u001b[0m",
            "\u001b[0;31mNameError\u001b[0m                                 Traceback (most recent call last)",
            "\u001b[0;32m<ipython-input-1-8b433a18c985>\u001b[0m in \u001b[0;36m<module>\u001b[0;34m()\u001b[0m\n\u001b[1;32m     65\u001b[0m \u001b[0;34m\u001b[0m\u001b[0m\n\u001b[1;32m     66\u001b[0m     \u001b[0mmodel\u001b[0m \u001b[0;34m=\u001b[0m \u001b[0mModel\u001b[0m\u001b[0;34m(\u001b[0m\u001b[0minputs\u001b[0m\u001b[0;34m=\u001b[0m\u001b[0minp\u001b[0m\u001b[0;34m,\u001b[0m \u001b[0moutputs\u001b[0m\u001b[0;34m=\u001b[0m\u001b[0mA7\u001b[0m\u001b[0;34m)\u001b[0m\u001b[0;34m\u001b[0m\u001b[0;34m\u001b[0m\u001b[0m\n\u001b[0;32m---> 67\u001b[0;31m \u001b[0mmodel\u001b[0m \u001b[0;34m=\u001b[0m \u001b[0mconv_net\u001b[0m\u001b[0;34m(\u001b[0m\u001b[0;34m)\u001b[0m\u001b[0;34m\u001b[0m\u001b[0;34m\u001b[0m\u001b[0m\n\u001b[0m\u001b[1;32m     68\u001b[0m \u001b[0mmodel\u001b[0m\u001b[0;34m.\u001b[0m\u001b[0msummary\u001b[0m\u001b[0;34m(\u001b[0m\u001b[0;34m)\u001b[0m\u001b[0;34m\u001b[0m\u001b[0;34m\u001b[0m\u001b[0m\n\u001b[1;32m     69\u001b[0m \u001b[0;34m\u001b[0m\u001b[0m\n",
            "\u001b[0;32m<ipython-input-1-8b433a18c985>\u001b[0m in \u001b[0;36mconv_net\u001b[0;34m()\u001b[0m\n\u001b[1;32m     11\u001b[0m \u001b[0;32mfrom\u001b[0m \u001b[0mkeras\u001b[0m\u001b[0;34m.\u001b[0m\u001b[0moptimizers\u001b[0m \u001b[0;32mimport\u001b[0m \u001b[0mAdam\u001b[0m\u001b[0;34m\u001b[0m\u001b[0;34m\u001b[0m\u001b[0m\n\u001b[1;32m     12\u001b[0m \u001b[0;32mdef\u001b[0m \u001b[0mconv_net\u001b[0m\u001b[0;34m(\u001b[0m\u001b[0;34m)\u001b[0m\u001b[0;34m:\u001b[0m\u001b[0;34m\u001b[0m\u001b[0;34m\u001b[0m\u001b[0m\n\u001b[0;32m---> 13\u001b[0;31m     \u001b[0mn_obs\u001b[0m\u001b[0;34m,\u001b[0m \u001b[0mfeature\u001b[0m\u001b[0;34m,\u001b[0m \u001b[0mdepth\u001b[0m \u001b[0;34m=\u001b[0m \u001b[0mX_train\u001b[0m\u001b[0;34m.\u001b[0m\u001b[0mshape\u001b[0m\u001b[0;34m\u001b[0m\u001b[0;34m\u001b[0m\u001b[0m\n\u001b[0m\u001b[1;32m     14\u001b[0m     \u001b[0mbatch_size\u001b[0m \u001b[0;34m=\u001b[0m \u001b[0;36m500\u001b[0m\u001b[0;34m\u001b[0m\u001b[0;34m\u001b[0m\u001b[0m\n\u001b[1;32m     15\u001b[0m \u001b[0;34m\u001b[0m\u001b[0m\n",
            "\u001b[0;31mNameError\u001b[0m: name 'X_train' is not defined"
          ]
        }
      ]
    },
    {
      "cell_type": "code",
      "metadata": {
        "id": "U84Jm6q_9xoc",
        "outputId": "8e2f086e-10ef-489d-bee8-64965a1b2d6d",
        "colab": {
          "base_uri": "https://localhost:8080/",
          "height": 1000
        }
      },
      "source": [
        "model = conv_net()\n",
        "\n",
        "callbacks = [EarlyStopping(monitor='val_loss', patience=8)]\n",
        "history=model.fit(X_train, y_train,epochs=40,callbacks=callbacks, batch_size=32,validation_data=(X_test,y_test))\n"
      ],
      "execution_count": null,
      "outputs": [
        {
          "output_type": "stream",
          "text": [
            "WARNING:tensorflow:From /tensorflow-1.15.2/python3.6/tensorflow_core/python/ops/math_grad.py:1424: where (from tensorflow.python.ops.array_ops) is deprecated and will be removed in a future version.\n",
            "Instructions for updating:\n",
            "Use tf.where in 2.0, which has the same broadcast rule as np.where\n",
            "WARNING:tensorflow:From /usr/local/lib/python3.6/dist-packages/keras/backend/tensorflow_backend.py:1033: The name tf.assign_add is deprecated. Please use tf.compat.v1.assign_add instead.\n",
            "\n",
            "WARNING:tensorflow:From /usr/local/lib/python3.6/dist-packages/keras/backend/tensorflow_backend.py:1020: The name tf.assign is deprecated. Please use tf.compat.v1.assign instead.\n",
            "\n",
            "WARNING:tensorflow:From /usr/local/lib/python3.6/dist-packages/keras/backend/tensorflow_backend.py:3005: The name tf.Session is deprecated. Please use tf.compat.v1.Session instead.\n",
            "\n",
            "Train on 70000 samples, validate on 30000 samples\n",
            "Epoch 1/40\n",
            "WARNING:tensorflow:From /usr/local/lib/python3.6/dist-packages/keras/backend/tensorflow_backend.py:190: The name tf.get_default_session is deprecated. Please use tf.compat.v1.get_default_session instead.\n",
            "\n",
            "WARNING:tensorflow:From /usr/local/lib/python3.6/dist-packages/keras/backend/tensorflow_backend.py:197: The name tf.ConfigProto is deprecated. Please use tf.compat.v1.ConfigProto instead.\n",
            "\n",
            "WARNING:tensorflow:From /usr/local/lib/python3.6/dist-packages/keras/backend/tensorflow_backend.py:207: The name tf.global_variables is deprecated. Please use tf.compat.v1.global_variables instead.\n",
            "\n",
            "WARNING:tensorflow:From /usr/local/lib/python3.6/dist-packages/keras/backend/tensorflow_backend.py:216: The name tf.is_variable_initialized is deprecated. Please use tf.compat.v1.is_variable_initialized instead.\n",
            "\n",
            "WARNING:tensorflow:From /usr/local/lib/python3.6/dist-packages/keras/backend/tensorflow_backend.py:223: The name tf.variables_initializer is deprecated. Please use tf.compat.v1.variables_initializer instead.\n",
            "\n",
            "70000/70000 [==============================] - 93s 1ms/step - loss: 0.3337 - acc: 0.8780 - val_loss: 0.1953 - val_acc: 0.9324\n",
            "Epoch 2/40\n",
            "70000/70000 [==============================] - 92s 1ms/step - loss: 0.1468 - acc: 0.9479 - val_loss: 0.1737 - val_acc: 0.9406\n",
            "Epoch 3/40\n",
            "70000/70000 [==============================] - 92s 1ms/step - loss: 0.1053 - acc: 0.9628 - val_loss: 0.1002 - val_acc: 0.9647\n",
            "Epoch 4/40\n",
            "70000/70000 [==============================] - 91s 1ms/step - loss: 0.0887 - acc: 0.9699 - val_loss: 0.0842 - val_acc: 0.9724\n",
            "Epoch 5/40\n",
            "70000/70000 [==============================] - 91s 1ms/step - loss: 0.0728 - acc: 0.9752 - val_loss: 0.0832 - val_acc: 0.9723\n",
            "Epoch 6/40\n",
            "70000/70000 [==============================] - 91s 1ms/step - loss: 0.0674 - acc: 0.9779 - val_loss: 0.0721 - val_acc: 0.9770\n",
            "Epoch 7/40\n",
            "70000/70000 [==============================] - 92s 1ms/step - loss: 0.0598 - acc: 0.9807 - val_loss: 0.0607 - val_acc: 0.9813\n",
            "Epoch 8/40\n",
            "70000/70000 [==============================] - 92s 1ms/step - loss: 0.0545 - acc: 0.9822 - val_loss: 0.0511 - val_acc: 0.9847\n",
            "Epoch 9/40\n",
            "70000/70000 [==============================] - 92s 1ms/step - loss: 0.0505 - acc: 0.9836 - val_loss: 0.0615 - val_acc: 0.9826\n",
            "Epoch 10/40\n",
            "70000/70000 [==============================] - 92s 1ms/step - loss: 0.0475 - acc: 0.9847 - val_loss: 0.0685 - val_acc: 0.9811\n",
            "Epoch 11/40\n",
            "70000/70000 [==============================] - 92s 1ms/step - loss: 0.0459 - acc: 0.9855 - val_loss: 0.0738 - val_acc: 0.9780\n",
            "Epoch 12/40\n",
            "70000/70000 [==============================] - 92s 1ms/step - loss: 0.0445 - acc: 0.9857 - val_loss: 0.0937 - val_acc: 0.9761\n",
            "Epoch 13/40\n",
            "70000/70000 [==============================] - 92s 1ms/step - loss: 0.0439 - acc: 0.9862 - val_loss: 0.0585 - val_acc: 0.9815\n",
            "Epoch 14/40\n",
            "70000/70000 [==============================] - 92s 1ms/step - loss: 0.0423 - acc: 0.9868 - val_loss: 0.0645 - val_acc: 0.9828\n",
            "Epoch 15/40\n",
            "70000/70000 [==============================] - 92s 1ms/step - loss: 0.0378 - acc: 0.9882 - val_loss: 0.0508 - val_acc: 0.9879\n",
            "Epoch 16/40\n",
            "70000/70000 [==============================] - 92s 1ms/step - loss: 0.0370 - acc: 0.9889 - val_loss: 0.0450 - val_acc: 0.9872\n",
            "Epoch 17/40\n",
            "70000/70000 [==============================] - 92s 1ms/step - loss: 0.0390 - acc: 0.9881 - val_loss: 0.0623 - val_acc: 0.9828\n",
            "Epoch 18/40\n",
            "70000/70000 [==============================] - 91s 1ms/step - loss: 0.0330 - acc: 0.9896 - val_loss: 0.0405 - val_acc: 0.9900\n",
            "Epoch 19/40\n",
            "70000/70000 [==============================] - 92s 1ms/step - loss: 0.0347 - acc: 0.9889 - val_loss: 0.0534 - val_acc: 0.9856\n",
            "Epoch 20/40\n",
            "70000/70000 [==============================] - 92s 1ms/step - loss: 0.0335 - acc: 0.9899 - val_loss: 0.0454 - val_acc: 0.9888\n",
            "Epoch 21/40\n",
            "70000/70000 [==============================] - 95s 1ms/step - loss: 0.0328 - acc: 0.9900 - val_loss: 0.0481 - val_acc: 0.9880\n",
            "Epoch 22/40\n",
            "70000/70000 [==============================] - 92s 1ms/step - loss: 0.0318 - acc: 0.9903 - val_loss: 0.0564 - val_acc: 0.9834\n",
            "Epoch 23/40\n",
            "70000/70000 [==============================] - 93s 1ms/step - loss: 0.0295 - acc: 0.9909 - val_loss: 0.0472 - val_acc: 0.9896\n",
            "Epoch 24/40\n",
            "70000/70000 [==============================] - 93s 1ms/step - loss: 0.0307 - acc: 0.9904 - val_loss: 0.0740 - val_acc: 0.9794\n",
            "Epoch 25/40\n",
            "70000/70000 [==============================] - 93s 1ms/step - loss: 0.0310 - acc: 0.9905 - val_loss: 0.0373 - val_acc: 0.9896\n",
            "Epoch 26/40\n",
            "70000/70000 [==============================] - 92s 1ms/step - loss: 0.0279 - acc: 0.9914 - val_loss: 0.0476 - val_acc: 0.9874\n",
            "Epoch 27/40\n",
            "70000/70000 [==============================] - 91s 1ms/step - loss: 0.0263 - acc: 0.9921 - val_loss: 0.0435 - val_acc: 0.9896\n",
            "Epoch 28/40\n",
            "70000/70000 [==============================] - 91s 1ms/step - loss: 0.0288 - acc: 0.9911 - val_loss: 0.0377 - val_acc: 0.9912\n",
            "Epoch 29/40\n",
            "70000/70000 [==============================] - 91s 1ms/step - loss: 0.0293 - acc: 0.9914 - val_loss: 0.0902 - val_acc: 0.9834\n",
            "Epoch 30/40\n",
            "70000/70000 [==============================] - 91s 1ms/step - loss: 0.0267 - acc: 0.9925 - val_loss: 0.0637 - val_acc: 0.9842\n",
            "Epoch 31/40\n",
            "70000/70000 [==============================] - 91s 1ms/step - loss: 0.0281 - acc: 0.9919 - val_loss: 0.0457 - val_acc: 0.9893\n",
            "Epoch 32/40\n",
            "70000/70000 [==============================] - 91s 1ms/step - loss: 0.0287 - acc: 0.9916 - val_loss: 0.0454 - val_acc: 0.9891\n",
            "Epoch 33/40\n",
            "70000/70000 [==============================] - 92s 1ms/step - loss: 0.0271 - acc: 0.9920 - val_loss: 0.0864 - val_acc: 0.9811\n"
          ],
          "name": "stdout"
        }
      ]
    },
    {
      "cell_type": "code",
      "metadata": {
        "id": "0a1kvXb1N_FB",
        "outputId": "47118ee6-eddf-477e-d669-19580b466c36",
        "colab": {
          "base_uri": "https://localhost:8080/",
          "height": 35
        }
      },
      "source": [
        "history.history.keys()"
      ],
      "execution_count": null,
      "outputs": [
        {
          "output_type": "execute_result",
          "data": {
            "text/plain": [
              "dict_keys(['val_loss', 'val_acc', 'loss', 'acc'])"
            ]
          },
          "metadata": {
            "tags": []
          },
          "execution_count": 19
        }
      ]
    },
    {
      "cell_type": "code",
      "metadata": {
        "id": "mxXbLmN6OK_6"
      },
      "source": [
        "model.save('model.h5')\n"
      ],
      "execution_count": null,
      "outputs": []
    },
    {
      "cell_type": "code",
      "metadata": {
        "id": "BEqivlheF5Em",
        "outputId": "78b82d00-a752-43fa-cc50-d2b796069ec0",
        "colab": {
          "base_uri": "https://localhost:8080/",
          "height": 607
        }
      },
      "source": [
        "from sklearn.metrics import confusion_matrix\n",
        "def evaluate_model(history,X_test,y_test,model):\n",
        "    scores = model.evaluate((X_test),y_test, verbose=0)\n",
        "    print(\"Accuracy: %.2f%%\" % (scores[1]*100))\n",
        "    \n",
        "    print(history)\n",
        "    fig1, ax_acc = plt.subplots()\n",
        "    plt.plot(history.history['acc'])\n",
        "    plt.plot(history.history['val_acc'])\n",
        "    plt.xlabel('Epoch')\n",
        "    plt.ylabel('Accuracy')\n",
        "    plt.title('Model - Accuracy')\n",
        "    plt.legend(['Training', 'Validation'], loc='lower right')\n",
        "    plt.show()\n",
        "    \n",
        "    fig2, ax_loss = plt.subplots()\n",
        "    plt.xlabel('Epoch')\n",
        "    plt.ylabel('Loss')\n",
        "    plt.title('Model- Loss')\n",
        "    plt.legend(['Training', 'Validation'], loc='upper right')\n",
        "    plt.plot(history.history['loss'])\n",
        "    plt.plot(history.history['val_loss'])\n",
        "    plt.show()\n",
        "    target_names=['0','1','2','3','4']\n",
        "    \n",
        "    y_true=[]\n",
        "    for element in y_test:\n",
        "        y_true.append(np.argmax(element))\n",
        "    prediction_proba=model.predict(X_test)\n",
        "    prediction=np.argmax(prediction_proba,axis=1)\n",
        "    cnf_matrix = confusion_matrix(y_true, prediction)\n",
        "    \n",
        "evaluate_model(history,X_test,y_test,model)\n",
        "\n"
      ],
      "execution_count": null,
      "outputs": [
        {
          "output_type": "stream",
          "text": [
            "Accuracy: 98.11%\n",
            "<keras.callbacks.History object at 0x7f0f156301d0>\n"
          ],
          "name": "stdout"
        },
        {
          "output_type": "display_data",
          "data": {
            "image/png": "[encoded data removed]",
            "text/plain": [
              "<Figure size 432x288 with 1 Axes>"
            ]
          },
          "metadata": {
            "tags": []
          }
        },
        {
          "output_type": "display_data",
          "data": {
            "image/png": "[encoded data removed]",
            "text/plain": [
              "<Figure size 432x288 with 1 Axes>"
            ]
          },
          "metadata": {
            "tags": []
          }
        }
      ]
    },
    {
      "cell_type": "code",
      "metadata": {
        "id": "VCL7MuNM_ouT",
        "outputId": "5c1a99f7-2ee0-4cf3-f69e-275c1f0d727a",
        "colab": {
          "base_uri": "https://localhost:8080/",
          "height": 954
        }
      },
      "source": [
        "y_pred = model.predict(X_test, batch_size=1000)\n",
        "from sklearn.metrics import classification_report\n",
        "import itertools\n",
        "\n",
        "print(classification_report(y_test.argmax(axis=1), y_pred.argmax(axis=1)))\n",
        "\n",
        "def plot_confusion_matrix(cm, classes,\n",
        "                          normalize=False,\n",
        "                          title='Confusion matrix',\n",
        "                          cmap=plt.cm.Reds):\n",
        "    \"\"\"\n",
        "    This function prints and plots the confusion matrix.\n",
        "    Normalization can be applied by setting `normalize=True`.\n",
        "    \"\"\"\n",
        "    if normalize:\n",
        "        cm = cm.astype('float') / cm.sum(axis=1)[:, np.newaxis]\n",
        "        print(\"Normalized confusion matrix\")\n",
        "    else:\n",
        "        print('Confusion matrix, without normalization')\n",
        "\n",
        "    plt.imshow(cm, interpolation='nearest', cmap=cmap)\n",
        "    plt.title(title)\n",
        "    plt.colorbar()\n",
        "    tick_marks = np.arange(len(classes))\n",
        "    plt.xticks(tick_marks, classes, rotation=45)\n",
        "    plt.yticks(tick_marks, classes)\n",
        "\n",
        "    fmt = '.2f' if normalize else 'd'\n",
        "    thresh = cm.max() / 2.\n",
        "    for i, j in itertools.product(range(cm.shape[0]), range(cm.shape[1])):\n",
        "        plt.text(j, i, format(cm[i, j], fmt),\n",
        "                 horizontalalignment=\"center\",\n",
        "                 color=\"white\" if cm[i, j] > thresh else \"black\")\n",
        "\n",
        "    plt.tight_layout()\n",
        "    plt.ylabel('True label')\n",
        "    plt.xlabel('Predicted label')\n",
        "\n",
        "# Compute confusion matrix\n",
        "cnf_matrix = confusion_matrix(y_test.argmax(axis=1), y_pred.argmax(axis=1))\n",
        "np.set_printoptions(precision=2)\n",
        "\n",
        "# Plot non-normalized confusion matrix\n",
        "plt.figure(figsize=(10, 10))\n",
        "plot_confusion_matrix(cnf_matrix, classes=['N', 'S', 'V', 'F', 'Q'],\n",
        "                      title='Confusion matrix, without normalization')\n",
        "plt.show()\n"
      ],
      "execution_count": null,
      "outputs": [
        {
          "output_type": "stream",
          "text": [
            "              precision    recall  f1-score   support\n",
            "\n",
            "           0       0.97      0.95      0.96      5946\n",
            "           1       0.98      0.98      0.98      5848\n",
            "           2       0.97      0.99      0.98      6148\n",
            "           3       0.99      0.99      0.99      6011\n",
            "           4       0.99      1.00      0.99      6047\n",
            "\n",
            "    accuracy                           0.98     30000\n",
            "   macro avg       0.98      0.98      0.98     30000\n",
            "weighted avg       0.98      0.98      0.98     30000\n",
            "\n",
            "Confusion matrix, without normalization\n"
          ],
          "name": "stdout"
        },
        {
          "output_type": "display_data",
          "data": {
            "image/png": "[encoded data removed]",
            "text/plain": [
              "<Figure size 720x720 with 2 Axes>"
            ]
          },
          "metadata": {
            "tags": []
          }
        }
      ]
    },
    {
      "cell_type": "code",
      "metadata": {
        "id": "NWUkYcW6nkq9"
      },
      "source": [
        ""
      ],
      "execution_count": null,
      "outputs": []
    }
  ]
}